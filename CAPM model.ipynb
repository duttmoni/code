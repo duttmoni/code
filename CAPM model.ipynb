{
 "cells": [
  {
   "cell_type": "code",
   "execution_count": 1,
   "id": "51d7f04c",
   "metadata": {},
   "outputs": [],
   "source": [
    "import numpy as np\n",
    "import pandas as pd\n",
    "import yfinance as yf\n",
    "import matplotlib.pyplot as plt"
   ]
  },
  {
   "cell_type": "code",
   "execution_count": 3,
   "id": "aa7cfbf1",
   "metadata": {},
   "outputs": [],
   "source": [
    "ticker=\"AAPL\"\n",
    "index=\"^GSPC\""
   ]
  },
  {
   "cell_type": "code",
   "execution_count": 6,
   "id": "7a7aad69",
   "metadata": {},
   "outputs": [
    {
     "name": "stdout",
     "output_type": "stream",
     "text": [
      "[*********************100%***********************]  1 of 1 completed\n",
      "[*********************100%***********************]  1 of 1 completed\n",
      "                  Open        High         Low       Close   Adj Close  \\\n",
      "Date                                                                     \n",
      "2018-06-01   46.997501   47.564999   46.937500   47.560001   45.451927   \n",
      "2018-06-04   47.910000   48.355000   47.837502   47.957500   45.831799   \n",
      "2018-06-05   48.267502   48.485001   48.090000   48.327499   46.185394   \n",
      "2018-06-06   48.407501   48.520000   47.980000   48.494999   46.345470   \n",
      "2018-06-07   48.535000   48.549999   48.084999   48.365002   46.221237   \n",
      "...                ...         ...         ...         ...         ...   \n",
      "2023-05-23  173.130005  173.380005  171.279999  171.559998  171.559998   \n",
      "2023-05-24  171.089996  172.419998  170.520004  171.839996  171.839996   \n",
      "2023-05-25  172.410004  173.899994  171.690002  172.990005  172.990005   \n",
      "2023-05-26  173.320007  175.770004  173.110001  175.429993  175.429993   \n",
      "2023-05-30  176.960007  178.990005  176.570007  177.300003  177.300003   \n",
      "\n",
      "               Volume  \n",
      "Date                   \n",
      "2018-06-01   93770000  \n",
      "2018-06-04  105064800  \n",
      "2018-06-05   86264000  \n",
      "2018-06-06   83734400  \n",
      "2018-06-07   85388800  \n",
      "...               ...  \n",
      "2023-05-23   50747300  \n",
      "2023-05-24   45143500  \n",
      "2023-05-25   56058300  \n",
      "2023-05-26   54794100  \n",
      "2023-05-30   55964400  \n",
      "\n",
      "[1257 rows x 6 columns]\n",
      "                   Open         High          Low        Close    Adj Close  \\\n",
      "Date                                                                          \n",
      "2018-06-01  2718.699951  2736.929932  2718.699951  2734.620117  2734.620117   \n",
      "2018-06-04  2741.669922  2749.159912  2740.540039  2746.870117  2746.870117   \n",
      "2018-06-05  2748.459961  2752.610107  2739.510010  2748.800049  2748.800049   \n",
      "2018-06-06  2753.250000  2772.389893  2748.459961  2772.350098  2772.350098   \n",
      "2018-06-07  2774.840088  2779.899902  2760.159912  2770.370117  2770.370117   \n",
      "...                 ...          ...          ...          ...          ...   \n",
      "2023-05-23  4176.799805  4185.680176  4142.540039  4145.580078  4145.580078   \n",
      "2023-05-24  4132.959961  4132.959961  4103.979980  4115.240234  4115.240234   \n",
      "2023-05-25  4155.709961  4165.740234  4129.729980  4151.279785  4151.279785   \n",
      "2023-05-26  4156.160156  4212.870117  4156.160156  4205.450195  4205.450195   \n",
      "2023-05-30  4226.709961  4231.100098  4192.180176  4205.520020  4205.520020   \n",
      "\n",
      "                Volume  \n",
      "Date                    \n",
      "2018-06-01  3694310000  \n",
      "2018-06-04  3410090000  \n",
      "2018-06-05  3523550000  \n",
      "2018-06-06  3662780000  \n",
      "2018-06-07  3742080000  \n",
      "...                ...  \n",
      "2023-05-23  4155320000  \n",
      "2023-05-24  3739160000  \n",
      "2023-05-25  4147760000  \n",
      "2023-05-26  3715460000  \n",
      "2023-05-30  4228510000  \n",
      "\n",
      "[1257 rows x 6 columns]\n"
     ]
    }
   ],
   "source": [
    "stock_data=yf.download(ticker,start=\"2018-06-01\",end=\"2023-05-31\")\n",
    "index_data=yf.download(index,start=\"2018-06-01\",end=\"2023-05-31\")\n",
    "print(stock_data);\n",
    "print(index_data);"
   ]
  },
  {
   "cell_type": "code",
   "execution_count": 8,
   "id": "38905eae",
   "metadata": {},
   "outputs": [],
   "source": [
    "stock_close_prices = stock_data[\"Adj Close\"]\n",
    "stock_returns = []\n",
    "\n",
    "for i in range(1, len(stock_close_prices)):\n",
    "    prev_price = stock_close_prices[i - 1]\n",
    "    current_price = stock_close_prices[i]\n",
    "    return_value = (current_price - prev_price) / prev_price\n",
    "    stock_returns.append(return_value)\n",
    "\n",
    "stock_returns = pd.Series(stock_returns)\n",
    "stock_returns = stock_data['Adj Close'].pct_change().dropna()"
   ]
  },
  {
   "cell_type": "code",
   "execution_count": 9,
   "id": "2a2b2bda",
   "metadata": {},
   "outputs": [],
   "source": [
    "index_close_prices = index_data[\"Adj Close\"]\n",
    "index_returns = []\n",
    "\n",
    "for i in range(1, len(index_close_prices)):\n",
    "    prev_price = index_close_prices[i - 1]\n",
    "    current_price = index_close_prices[i]\n",
    "    return_value = (current_price - prev_price) / prev_price\n",
    "    index_returns.append(return_value)\n",
    "\n",
    "index_returns = pd.Series(index_returns)\n",
    "index_returns = index_data['Adj Close'].pct_change().dropna()"
   ]
  },
  {
   "cell_type": "code",
   "execution_count": 10,
   "id": "e07f42d3",
   "metadata": {},
   "outputs": [],
   "source": [
    "covariance = np.cov(stock_returns, index_returns)[0, 1]\n",
    "variance = np.var(index_returns)"
   ]
  },
  {
   "cell_type": "code",
   "execution_count": 11,
   "id": "da296670",
   "metadata": {},
   "outputs": [
    {
     "name": "stdout",
     "output_type": "stream",
     "text": [
      "0.0002315211163000228\n",
      "0.0001871359732230252\n"
     ]
    }
   ],
   "source": [
    "print(covariance);\n",
    "print(variance);"
   ]
  },
  {
   "cell_type": "code",
   "execution_count": 12,
   "id": "f6c80497",
   "metadata": {},
   "outputs": [],
   "source": [
    "beta=covariance/variance"
   ]
  },
  {
   "cell_type": "code",
   "execution_count": 13,
   "id": "a3ff75e5",
   "metadata": {},
   "outputs": [
    {
     "name": "stdout",
     "output_type": "stream",
     "text": [
      "1.2371812448058834\n"
     ]
    }
   ],
   "source": [
    "print(beta);"
   ]
  },
  {
   "cell_type": "code",
   "execution_count": 14,
   "id": "6f638525",
   "metadata": {},
   "outputs": [
    {
     "data": {
      "text/plain": [
       "0.5486239490368762"
      ]
     },
     "execution_count": 14,
     "metadata": {},
     "output_type": "execute_result"
    }
   ],
   "source": [
    "average_market_return= (index_returns.mean())*len(index_returns)\n",
    "average_market_return"
   ]
  },
  {
   "cell_type": "code",
   "execution_count": 15,
   "id": "00f4e9ab",
   "metadata": {},
   "outputs": [],
   "source": [
    "Riskfree_return=0.05"
   ]
  },
  {
   "cell_type": "code",
   "execution_count": 20,
   "id": "436beb42",
   "metadata": {},
   "outputs": [
    {
     "data": {
      "text/plain": [
       "0.6668881979594679"
      ]
     },
     "execution_count": 20,
     "metadata": {},
     "output_type": "execute_result"
    }
   ],
   "source": [
    "required_rate=Riskfree_return+beta*(-Riskfree_return+average_market_return)\n",
    "required_rate"
   ]
  },
  {
   "cell_type": "code",
   "execution_count": null,
   "id": "5a35e1c7",
   "metadata": {},
   "outputs": [],
   "source": []
  }
 ],
 "metadata": {
  "kernelspec": {
   "display_name": "Python 3 (ipykernel)",
   "language": "python",
   "name": "python3"
  },
  "language_info": {
   "codemirror_mode": {
    "name": "ipython",
    "version": 3
   },
   "file_extension": ".py",
   "mimetype": "text/x-python",
   "name": "python",
   "nbconvert_exporter": "python",
   "pygments_lexer": "ipython3",
   "version": "3.11.1"
  }
 },
 "nbformat": 4,
 "nbformat_minor": 5
}
